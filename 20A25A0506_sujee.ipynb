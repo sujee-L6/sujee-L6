{
  "nbformat": 4,
  "nbformat_minor": 0,
  "metadata": {
    "colab": {
      "name": "20A25A0506 sujee",
      "provenance": [],
      "collapsed_sections": [],
      "authorship_tag": "ABX9TyPfKOvUxzlQNrGxHTVh/8p8",
      "include_colab_link": true
    },
    "kernelspec": {
      "name": "python3",
      "display_name": "Python 3"
    },
    "language_info": {
      "name": "python"
    }
  },
  "cells": [
    {
      "cell_type": "markdown",
      "metadata": {
        "id": "view-in-github",
        "colab_type": "text"
      },
      "source": [
        "<a href=\"https://colab.research.google.com/github/sujee-L6/sujee-L6/blob/main/20A25A0506_sujee.ipynb\" target=\"_parent\"><img src=\"https://colab.research.google.com/assets/colab-badge.svg\" alt=\"Open In Colab\"/></a>"
      ]
    },
    {
      "cell_type": "markdown",
      "metadata": {
        "id": "EmEvU5kVDt1m"
      },
      "source": [
        "## **excercise**-1"
      ]
    },
    {
      "cell_type": "markdown",
      "metadata": {
        "id": "5X1Pe60gc841"
      },
      "source": [
        "1.running instructions in  interactive interpreter and a python script"
      ]
    },
    {
      "cell_type": "code",
      "metadata": {
        "colab": {
          "base_uri": "https://localhost:8080/",
          "height": 215
        },
        "id": "xpeyY8mynnma",
        "outputId": "d238aced-4f50-4607-8e0d-55df7810ff7c"
      },
      "source": [
        "print(\"Hello,sujee\")\n",
        "Hello,sujee\n",
        "\n"
      ],
      "execution_count": 1,
      "outputs": [
        {
          "output_type": "stream",
          "text": [
            "Hello,sujee\n"
          ],
          "name": "stdout"
        },
        {
          "output_type": "error",
          "ename": "NameError",
          "evalue": "ignored",
          "traceback": [
            "\u001b[0;31m---------------------------------------------------------------------------\u001b[0m",
            "\u001b[0;31mNameError\u001b[0m                                 Traceback (most recent call last)",
            "\u001b[0;32m<ipython-input-1-8dc85327a224>\u001b[0m in \u001b[0;36m<module>\u001b[0;34m()\u001b[0m\n\u001b[1;32m      1\u001b[0m \u001b[0mprint\u001b[0m\u001b[0;34m(\u001b[0m\u001b[0;34m\"Hello,sujee\"\u001b[0m\u001b[0;34m)\u001b[0m\u001b[0;34m\u001b[0m\u001b[0;34m\u001b[0m\u001b[0m\n\u001b[0;32m----> 2\u001b[0;31m \u001b[0mHello\u001b[0m\u001b[0;34m,\u001b[0m\u001b[0msujee\u001b[0m\u001b[0;34m\u001b[0m\u001b[0;34m\u001b[0m\u001b[0m\n\u001b[0m\u001b[1;32m      3\u001b[0m \u001b[0;34m\u001b[0m\u001b[0m\n",
            "\u001b[0;31mNameError\u001b[0m: name 'Hello' is not defined"
          ]
        }
      ]
    },
    {
      "cell_type": "markdown",
      "metadata": {
        "id": "jHmLVoKcdvby"
      },
      "source": [
        "2,purposly raise indentation error and correct it"
      ]
    },
    {
      "cell_type": "code",
      "metadata": {
        "colab": {
          "base_uri": "https://localhost:8080/",
          "height": 130
        },
        "id": "Dvs48jAZd8o-",
        "outputId": "2ef0e1c5-3527-4683-9603-1e0bab699d6b"
      },
      "source": [
        "if(true):\n",
        "  print(true)\n",
        "  else:\n",
        "  print(false)\n"
      ],
      "execution_count": null,
      "outputs": [
        {
          "output_type": "error",
          "ename": "SyntaxError",
          "evalue": "ignored",
          "traceback": [
            "\u001b[0;36m  File \u001b[0;32m\"<ipython-input-1-f317de042be3>\"\u001b[0;36m, line \u001b[0;32m3\u001b[0m\n\u001b[0;31m    else:\u001b[0m\n\u001b[0m       ^\u001b[0m\n\u001b[0;31mSyntaxError\u001b[0m\u001b[0;31m:\u001b[0m invalid syntax\n"
          ]
        }
      ]
    },
    {
      "cell_type": "markdown",
      "metadata": {
        "id": "NqufREYKn3Z_"
      },
      "source": [
        "corrected **code**"
      ]
    },
    {
      "cell_type": "code",
      "metadata": {
        "id": "3PFMbM--n7Cv",
        "colab": {
          "base_uri": "https://localhost:8080/"
        },
        "outputId": "a29aea35-ad78-4867-e21d-37b83611a70d"
      },
      "source": [
        "\n",
        "if True:\n",
        "  print(\"True\")\n",
        "  \n",
        "else:\n",
        "    print(\"False\")"
      ],
      "execution_count": null,
      "outputs": [
        {
          "output_type": "stream",
          "text": [
            "True\n"
          ],
          "name": "stdout"
        }
      ]
    },
    {
      "cell_type": "markdown",
      "metadata": {
        "id": "hVLbz5sDrHFd"
      },
      "source": [
        "**B)Error code**"
      ]
    },
    {
      "cell_type": "code",
      "metadata": {
        "colab": {
          "base_uri": "https://localhost:8080/",
          "height": 130
        },
        "id": "zhn73x7ooOve",
        "outputId": "744666c8-6c6f-400f-c119-d44eec7c66f9"
      },
      "source": [
        "if true:\n",
        "  print(\"true1\")\n",
        "  print(\"true2\")\n",
        "\n",
        "else:\n",
        "    \n",
        "    print(\"false\")\n"
      ],
      "execution_count": null,
      "outputs": [
        {
          "output_type": "error",
          "ename": "SyntaxError",
          "evalue": "ignored",
          "traceback": [
            "\u001b[0;36m  File \u001b[0;32m\"<ipython-input-1-d8461c90b0af>\"\u001b[0;36m, line \u001b[0;32m5\u001b[0m\n\u001b[0;31m    else :\u001b[0m\n\u001b[0m       ^\u001b[0m\n\u001b[0;31mSyntaxError\u001b[0m\u001b[0;31m:\u001b[0m invalid syntax\n"
          ]
        }
      ]
    },
    {
      "cell_type": "markdown",
      "metadata": {
        "id": "JE7CfFXPolMV"
      },
      "source": [
        "**corrected code**"
      ]
    },
    {
      "cell_type": "code",
      "metadata": {
        "colab": {
          "base_uri": "https://localhost:8080/"
        },
        "id": "mvwJ0jiWoty4",
        "outputId": "9fb3ba94-4d2d-4f2c-ec52-36cbcb10cf57"
      },
      "source": [
        "if True:\n",
        "  print(\"True1\")\n",
        "  print(\"True2\")\n",
        "else:\n",
        "    print(\"False\")\n"
      ],
      "execution_count": null,
      "outputs": [
        {
          "output_type": "stream",
          "text": [
            "True1\n",
            "True2\n"
          ],
          "name": "stdout"
        }
      ]
    },
    {
      "cell_type": "markdown",
      "metadata": {
        "id": "m4O35bP0ppbt"
      },
      "source": [
        "**Excercise 2**-operations"
      ]
    },
    {
      "cell_type": "markdown",
      "metadata": {
        "id": "bJvy759UpdPy"
      },
      "source": [
        "distance betwwen two points taking input from the user\n"
      ]
    },
    {
      "cell_type": "code",
      "metadata": {
        "id": "aD0uK646pj69",
        "colab": {
          "base_uri": "https://localhost:8080/"
        },
        "outputId": "3cb79d17-5096-470b-8eb3-afc245655f68"
      },
      "source": [
        "import math\n",
        "x1=int(input(\"enter X1 value:\"))\n",
        "x2=int(input(\"enter X2 value:\"))\n",
        "y1=int(input(\"enter y1 value:\"))\n",
        "y2=int(input(\"enter y2 value:\"))\n",
        "d=math.sqrt(((x2-x1)**2)+((y2-y1)**2))\n",
        "print(\"distance between two points:\",d)"
      ],
      "execution_count": null,
      "outputs": [
        {
          "output_type": "stream",
          "text": [
            "enter X1 value:10\n",
            "enter X2 value:8\n",
            "enter y1 value:5\n",
            "enter y2 value:6\n",
            "distance between two points: 2.23606797749979\n"
          ],
          "name": "stdout"
        }
      ]
    },
    {
      "cell_type": "markdown",
      "metadata": {
        "id": "M37acSVVpEqI"
      },
      "source": [
        "add.py that takes 2 numbers as command line"
      ]
    },
    {
      "cell_type": "code",
      "metadata": {
        "id": "s6jlxSRApRPz",
        "colab": {
          "base_uri": "https://localhost:8080/",
          "height": 232
        },
        "outputId": "e4bb523b-130e-4063-894a-26d2a2fba650"
      },
      "source": [
        "import sys\n",
        "a=int(sys.argv[1])\n",
        "b=int(sys.argv[2])\n",
        "sum=a+b\n",
        "print(\"The sum of two numbers:\",sum)\n"
      ],
      "execution_count": 6,
      "outputs": [
        {
          "output_type": "error",
          "ename": "ValueError",
          "evalue": "ignored",
          "traceback": [
            "\u001b[0;31m---------------------------------------------------------------------------\u001b[0m",
            "\u001b[0;31mValueError\u001b[0m                                Traceback (most recent call last)",
            "\u001b[0;32m<ipython-input-6-e56e1b2cc675>\u001b[0m in \u001b[0;36m<module>\u001b[0;34m()\u001b[0m\n\u001b[1;32m      1\u001b[0m \u001b[0;32mimport\u001b[0m \u001b[0msys\u001b[0m\u001b[0;34m\u001b[0m\u001b[0;34m\u001b[0m\u001b[0m\n\u001b[0;32m----> 2\u001b[0;31m \u001b[0ma\u001b[0m\u001b[0;34m=\u001b[0m\u001b[0mint\u001b[0m\u001b[0;34m(\u001b[0m\u001b[0msys\u001b[0m\u001b[0;34m.\u001b[0m\u001b[0margv\u001b[0m\u001b[0;34m[\u001b[0m\u001b[0;36m1\u001b[0m\u001b[0;34m]\u001b[0m\u001b[0;34m)\u001b[0m\u001b[0;34m\u001b[0m\u001b[0;34m\u001b[0m\u001b[0m\n\u001b[0m\u001b[1;32m      3\u001b[0m \u001b[0mb\u001b[0m\u001b[0;34m=\u001b[0m\u001b[0mint\u001b[0m\u001b[0;34m(\u001b[0m\u001b[0msys\u001b[0m\u001b[0;34m.\u001b[0m\u001b[0margv\u001b[0m\u001b[0;34m[\u001b[0m\u001b[0;36m2\u001b[0m\u001b[0;34m]\u001b[0m\u001b[0;34m)\u001b[0m\u001b[0;34m\u001b[0m\u001b[0;34m\u001b[0m\u001b[0m\n\u001b[1;32m      4\u001b[0m \u001b[0msum\u001b[0m\u001b[0;34m=\u001b[0m\u001b[0ma\u001b[0m\u001b[0;34m+\u001b[0m\u001b[0mb\u001b[0m\u001b[0;34m\u001b[0m\u001b[0;34m\u001b[0m\u001b[0m\n\u001b[1;32m      5\u001b[0m \u001b[0mprint\u001b[0m\u001b[0;34m(\u001b[0m\u001b[0;34m\"The sum of two numbers:\"\u001b[0m\u001b[0;34m,\u001b[0m\u001b[0msum\u001b[0m\u001b[0;34m)\u001b[0m\u001b[0;34m\u001b[0m\u001b[0;34m\u001b[0m\u001b[0m\n",
            "\u001b[0;31mValueError\u001b[0m: invalid literal for int() with base 10: '-f'"
          ]
        }
      ]
    },
    {
      "cell_type": "markdown",
      "metadata": {
        "id": "3EaJDhsCpwO7"
      },
      "source": [
        "**Excercise C**-control flow"
      ]
    },
    {
      "cell_type": "markdown",
      "metadata": {
        "id": "AZpUl5PAp0SB"
      },
      "source": [
        "A,the given number is even or odd"
      ]
    },
    {
      "cell_type": "code",
      "metadata": {
        "colab": {
          "base_uri": "https://localhost:8080/"
        },
        "id": "N4pQbR9Jp7_K",
        "outputId": "d08d341d-31c0-4a6b-bcfc-4b82a110e2f1"
      },
      "source": [
        "#to check the given number is even or odd\n",
        "n=int(input(\"enter a number:\"))\n",
        "if n%2==0:\n",
        "  print(\"the given number is Even\")\n",
        "else:\n",
        "    print(\"the given number is Odd\")\n",
        "    \n"
      ],
      "execution_count": null,
      "outputs": [
        {
          "output_type": "stream",
          "text": [
            "enter a number:3\n",
            "the given number is Odd\n"
          ],
          "name": "stdout"
        }
      ]
    },
    {
      "cell_type": "markdown",
      "metadata": {
        "id": "jnDJv0ePqdnR"
      },
      "source": [
        "B,using a for loop,write a program that prints out the decimal equivalenceof 1/2,1/3.1/4.....1/10"
      ]
    },
    {
      "cell_type": "code",
      "metadata": {
        "colab": {
          "base_uri": "https://localhost:8080/"
        },
        "id": "OnsncraqrwyE",
        "outputId": "ec1df5ee-92e4-4093-944b-56506933190f"
      },
      "source": [
        "#prints out the decimal eqivalents of 1/2,1/3,1/4....1/10\n",
        "n=int(input(\"enter the number\"))\n",
        "for i in range(2,n):\n",
        "  de=1/i\n",
        "  print(\"1/\"+str(i)+\"=\",de)\n"
      ],
      "execution_count": null,
      "outputs": [
        {
          "output_type": "stream",
          "text": [
            "enter the number23\n",
            "1/2= 0.5\n",
            "1/3= 0.3333333333333333\n",
            "1/4= 0.25\n",
            "1/5= 0.2\n",
            "1/6= 0.16666666666666666\n",
            "1/7= 0.14285714285714285\n",
            "1/8= 0.125\n",
            "1/9= 0.1111111111111111\n",
            "1/10= 0.1\n",
            "1/11= 0.09090909090909091\n",
            "1/12= 0.08333333333333333\n",
            "1/13= 0.07692307692307693\n",
            "1/14= 0.07142857142857142\n",
            "1/15= 0.06666666666666667\n",
            "1/16= 0.0625\n",
            "1/17= 0.058823529411764705\n",
            "1/18= 0.05555555555555555\n",
            "1/19= 0.05263157894736842\n",
            "1/20= 0.05\n",
            "1/21= 0.047619047619047616\n",
            "1/22= 0.045454545454545456\n"
          ],
          "name": "stdout"
        }
      ]
    },
    {
      "cell_type": "markdown",
      "metadata": {
        "id": "XR05Q3EZwCts"
      },
      "source": [
        "C,for loop that loops over sequence"
      ]
    },
    {
      "cell_type": "code",
      "metadata": {
        "colab": {
          "base_uri": "https://localhost:8080/"
        },
        "id": "sCvZ8v4SwK1X",
        "outputId": "74704685-7502-4775-df5f-38ab68d3ba22"
      },
      "source": [
        "arr=[4,\"abc\",-45,'C',10.5,True,5,10.6,\"xyz\"]\n",
        "print(\"given array:\",arr)\n",
        "for x in arr:\n",
        "  print(x)"
      ],
      "execution_count": null,
      "outputs": [
        {
          "output_type": "stream",
          "text": [
            "given array: [4, 'abc', -45, 'C', 10.5, True, 5, 10.6, 'xyz']\n",
            "4\n",
            "abc\n",
            "-45\n",
            "C\n",
            "10.5\n",
            "True\n",
            "5\n",
            "10.6\n",
            "xyz\n"
          ],
          "name": "stdout"
        }
      ]
    },
    {
      "cell_type": "markdown",
      "metadata": {
        "id": "C_cwrAjAwwRC"
      },
      "source": [
        "D,using while loop that asks the user for a number and prints countdown from that number to zero"
      ]
    },
    {
      "cell_type": "code",
      "metadata": {
        "colab": {
          "base_uri": "https://localhost:8080/"
        },
        "id": "9ZpZDFW7w-np",
        "outputId": "0d768d97-1c39-40db-f9e6-f7da89254104"
      },
      "source": [
        "n=int(input(\"enter the value\"))\n",
        "while n>=0:\n",
        "  print(n)\n",
        "  n-=1"
      ],
      "execution_count": null,
      "outputs": [
        {
          "output_type": "stream",
          "text": [
            "enter the value12\n",
            "12\n",
            "11\n",
            "10\n",
            "9\n",
            "8\n",
            "7\n",
            "6\n",
            "5\n",
            "4\n",
            "3\n",
            "2\n",
            "1\n",
            "0\n"
          ],
          "name": "stdout"
        }
      ]
    },
    {
      "cell_type": "markdown",
      "metadata": {
        "id": "OZTTAzQRxQSm"
      },
      "source": [
        "**Excercise 4**-control flow-continued"
      ]
    },
    {
      "cell_type": "code",
      "metadata": {
        "colab": {
          "base_uri": "https://localhost:8080/"
        },
        "id": "qFbf29nrh22-",
        "outputId": "94a71c05-0e21-4d35-db28-1c1ee1f95380"
      },
      "source": [
        "#sum of all primes of given number below\n",
        "n=int(input(\"enter an ending number:\"))\n",
        "st=\"\"\n",
        "sum=0\n",
        "\n",
        "for i in range(2,n):\n",
        "  state=True\n",
        "  \n",
        "for j in range(2,i):\n",
        "  if (i%j)==0:\n",
        "    state=False\n",
        "    break;\n",
        "    if state==True:\n",
        "      st+=\"\"+str(i)\n",
        "      sum+=i\n",
        "      \n",
        "      print(\"prime Numbers :\")\n",
        "      print(st)\n",
        "      print(\"sum of the prime  Numbers:\",sum)"
      ],
      "execution_count": 8,
      "outputs": [
        {
          "output_type": "stream",
          "text": [
            "enter an ending number:33\n"
          ],
          "name": "stdout"
        }
      ]
    },
    {
      "cell_type": "markdown",
      "metadata": {
        "id": "Gu-OxQLdmvi7"
      },
      "source": [
        "B,fibbonic series is generated by adding the previous two terms"
      ]
    },
    {
      "cell_type": "code",
      "metadata": {
        "colab": {
          "base_uri": "https://localhost:8080/"
        },
        "id": "mzNuvF45m4qE",
        "outputId": "b304f1f7-c99a-4319-b134-4e4a443f2d1f"
      },
      "source": [
        "n=int(input(\"enter value of n:\"))\n",
        "a=0\n",
        "b=1\n",
        "c=a+b\n",
        "while c<n:\n",
        "  print(c,end='')\n",
        "  a=b\n",
        "  b=c\n",
        "  c=a+b"
      ],
      "execution_count": null,
      "outputs": [
        {
          "output_type": "stream",
          "text": [
            "enter value of n:110\n",
            "123581321345589"
          ],
          "name": "stdout"
        }
      ]
    },
    {
      "cell_type": "markdown",
      "metadata": {
        "id": "AEUpkk26zDry"
      },
      "source": [
        "C,fibbonic sequence(by starting 1 and 2 the first 10 terms will be :1,2,3,5,8,13,21,34,55,89,...."
      ]
    },
    {
      "cell_type": "code",
      "metadata": {
        "colab": {
          "base_uri": "https://localhost:8080/"
        },
        "id": "jM9K1E4rzYQE",
        "outputId": "fc839c94-6447-452b-9e52-afb78dc8ecca"
      },
      "source": [
        "#fibbonic series \n",
        "n=int(input(\"enter value of n :\"))\n",
        "a=0\n",
        "b=1\n",
        "c=a+b\n",
        "sum=0\n",
        "print(\"even numbers in fibbonacci series:\",end=\"\")\n",
        "while c<n:\n",
        "  print(c,end='')\n",
        "  a=b\n",
        "  b=c\n",
        "  c=a+b\n",
        "  print(\"\\n sum of fibbonic series is :\",sum)"
      ],
      "execution_count": null,
      "outputs": [
        {
          "output_type": "stream",
          "text": [
            "enter value of n :2222222222\n",
            "even numbers in fibbonacci series:1\n",
            " sum of fibbonic series is : 0\n",
            "2\n",
            " sum of fibbonic series is : 0\n",
            "3\n",
            " sum of fibbonic series is : 0\n",
            "5\n",
            " sum of fibbonic series is : 0\n",
            "8\n",
            " sum of fibbonic series is : 0\n",
            "13\n",
            " sum of fibbonic series is : 0\n",
            "21\n",
            " sum of fibbonic series is : 0\n",
            "34\n",
            " sum of fibbonic series is : 0\n",
            "55\n",
            " sum of fibbonic series is : 0\n",
            "89\n",
            " sum of fibbonic series is : 0\n",
            "144\n",
            " sum of fibbonic series is : 0\n",
            "233\n",
            " sum of fibbonic series is : 0\n",
            "377\n",
            " sum of fibbonic series is : 0\n",
            "610\n",
            " sum of fibbonic series is : 0\n",
            "987\n",
            " sum of fibbonic series is : 0\n",
            "1597\n",
            " sum of fibbonic series is : 0\n",
            "2584\n",
            " sum of fibbonic series is : 0\n",
            "4181\n",
            " sum of fibbonic series is : 0\n",
            "6765\n",
            " sum of fibbonic series is : 0\n",
            "10946\n",
            " sum of fibbonic series is : 0\n",
            "17711\n",
            " sum of fibbonic series is : 0\n",
            "28657\n",
            " sum of fibbonic series is : 0\n",
            "46368\n",
            " sum of fibbonic series is : 0\n",
            "75025\n",
            " sum of fibbonic series is : 0\n",
            "121393\n",
            " sum of fibbonic series is : 0\n",
            "196418\n",
            " sum of fibbonic series is : 0\n",
            "317811\n",
            " sum of fibbonic series is : 0\n",
            "514229\n",
            " sum of fibbonic series is : 0\n",
            "832040\n",
            " sum of fibbonic series is : 0\n",
            "1346269\n",
            " sum of fibbonic series is : 0\n",
            "2178309\n",
            " sum of fibbonic series is : 0\n",
            "3524578\n",
            " sum of fibbonic series is : 0\n",
            "5702887\n",
            " sum of fibbonic series is : 0\n",
            "9227465\n",
            " sum of fibbonic series is : 0\n",
            "14930352\n",
            " sum of fibbonic series is : 0\n",
            "24157817\n",
            " sum of fibbonic series is : 0\n",
            "39088169\n",
            " sum of fibbonic series is : 0\n",
            "63245986\n",
            " sum of fibbonic series is : 0\n",
            "102334155\n",
            " sum of fibbonic series is : 0\n",
            "165580141\n",
            " sum of fibbonic series is : 0\n",
            "267914296\n",
            " sum of fibbonic series is : 0\n",
            "433494437\n",
            " sum of fibbonic series is : 0\n",
            "701408733\n",
            " sum of fibbonic series is : 0\n",
            "1134903170\n",
            " sum of fibbonic series is : 0\n",
            "1836311903\n",
            " sum of fibbonic series is : 0\n"
          ],
          "name": "stdout"
        }
      ]
    },
    {
      "cell_type": "markdown",
      "metadata": {
        "id": "MNn7DaN70kjo"
      },
      "source": [
        "**Excersise 5**-ds"
      ]
    },
    {
      "cell_type": "markdown",
      "metadata": {
        "id": "NTgFS_T70qlO"
      },
      "source": [
        "to count a number of characters in the string and store them in a dictionary data structure"
      ]
    },
    {
      "cell_type": "code",
      "metadata": {
        "colab": {
          "base_uri": "https://localhost:8080/"
        },
        "id": "OFCt8YCn0079",
        "outputId": "1619eb32-89cf-4e7d-9cc1-12dbb5d1e253"
      },
      "source": [
        "name=input(\"enter a name :\")\n",
        "dic={}\n",
        "for ch in name :\n",
        "  keys=dic.keys()\n",
        "  if (ch in keys):\n",
        "    dic[ch]+dic[ch]+1\n",
        "else:\n",
        "     dic[ch]=1\n",
        "     print(\"Dictionary is :\",dic)"
      ],
      "execution_count": null,
      "outputs": [
        {
          "output_type": "stream",
          "text": [
            "enter a name :sujee\n",
            "Dictionary is : {'e': 1}\n"
          ],
          "name": "stdout"
        }
      ]
    },
    {
      "cell_type": "markdown",
      "metadata": {
        "id": "ExU5zAVj1T49"
      },
      "source": [
        "B,to use spilt and join methods in the string and trace a birthday with a dictionary data structure"
      ]
    },
    {
      "cell_type": "code",
      "metadata": {
        "colab": {
          "base_uri": "https://localhost:8080/"
        },
        "id": "FvCRWyOM1wvq",
        "outputId": "06ea7b8a-9aef-44f9-c851-f9325cbbfb5e"
      },
      "source": [
        "dob={\"sujee\":\"05-jan-2003\",\"harshi\":\"22-12-2002\"}\n",
        "name =input(\"which person DOB you want :\")\n",
        "l=name.split()\n",
        "birth=\"\"\n",
        "for i in l:\n",
        "  if i in dob.keys():\n",
        "    pers=i\n",
        "    print(\"\".join([pers,\"birthday is\",dob[pers]]))"
      ],
      "execution_count": null,
      "outputs": [
        {
          "output_type": "stream",
          "text": [
            "which person DOB you want :sujee\n",
            "sujeebirthday is05-jan-2003\n"
          ],
          "name": "stdout"
        }
      ]
    },
    {
      "cell_type": "markdown",
      "metadata": {
        "id": "7qJCn2Dc518Z"
      },
      "source": [
        "**Excersise 6**-ds continued"
      ]
    },
    {
      "cell_type": "markdown",
      "metadata": {
        "id": "01ooE44f9AeO"
      },
      "source": [
        "combines list that combines these lists into a dictionary"
      ]
    },
    {
      "cell_type": "code",
      "metadata": {
        "colab": {
          "base_uri": "https://localhost:8080/"
        },
        "id": "OxXW4FE09K_W",
        "outputId": "920e3732-28bf-478d-c80a-58acabd5fcbc"
      },
      "source": [
        "subj=[\"DAA\",\"OS\",\"DBMS\",\"P&S\",\"PPL\",\"SE\"]\n",
        "marks=[85,96,78,68,98,56]\n",
        "\n",
        "print(\"given lists are:\")\n",
        "print(\"Subject Names:\",subj)\n",
        "print(\"mark values:\",marks)\n",
        "\n",
        "dic=dict(zip(subj,marks))\n",
        "print(\"\\n Dictionary:\",dic)\n"
      ],
      "execution_count": 9,
      "outputs": [
        {
          "output_type": "stream",
          "text": [
            "given lists are:\n",
            "Subject Names: ['DAA', 'OS', 'DBMS', 'P&S', 'PPL', 'SE']\n",
            "mark values: [85, 96, 78, 68, 98, 56]\n",
            "\n",
            " Dictionary: {'DAA': 85, 'OS': 96, 'DBMS': 78, 'P&S': 68, 'PPL': 98, 'SE': 56}\n"
          ],
          "name": "stdout"
        }
      ]
    },
    {
      "cell_type": "markdown",
      "metadata": {
        "id": "qc-gMv_--HP7"
      },
      "source": [
        "B,count frequency of charecters in a given file"
      ]
    },
    {
      "cell_type": "code",
      "metadata": {
        "colab": {
          "base_uri": "https://localhost:8080/",
          "height": 130
        },
        "id": "uWMp56a4-QXF",
        "outputId": "834ba657-7d0e-4109-b1ad-b4f3a142bc06"
      },
      "source": [
        "filetypes=['.py','.c','.txt']\n",
        "fn=input(\"enter the file name:\")\n",
        "f=open(fn,\"r\")\n",
        "count=dict()\n",
        "\n",
        "print(\"Given file is\",end=\"\")\n",
        "for ft in filetypes:\n",
        "  if(ft in fn):\n",
        "    if(ft=='.py'):\n",
        "      print(\"python file\")\n",
        "            elif(ft=='.c'):\n",
        "\n",
        "        print(\"C file\")\n",
        "        elif(ft=='.txt'):\n",
        "          print(\"Text file\")\n",
        "          for line in f:\n",
        "      for ch in line:\n",
        "            for ch in count:\n",
        "              count[ch]=count[ch]+1\n",
        "              else:\n",
        "                count[ch]=1\n",
        "                print(count)\n",
        "                f.close()\n",
        "                "
      ],
      "execution_count": 27,
      "outputs": [
        {
          "output_type": "error",
          "ename": "IndentationError",
          "evalue": "ignored",
          "traceback": [
            "\u001b[0;36m  File \u001b[0;32m\"<ipython-input-27-40f225407862>\"\u001b[0;36m, line \u001b[0;32m11\u001b[0m\n\u001b[0;31m    elif(ft=='.c'):\u001b[0m\n\u001b[0m    ^\u001b[0m\n\u001b[0;31mIndentationError\u001b[0m\u001b[0;31m:\u001b[0m unexpected indent\n"
          ]
        }
      ]
    },
    {
      "cell_type": "markdown",
      "metadata": {
        "id": "-q_sgcMz_3kF"
      },
      "source": [
        "**Excersise 7**- files"
      ]
    },
    {
      "cell_type": "markdown",
      "metadata": {
        "id": "goJNu0fF_9o2"
      },
      "source": [
        "to print each line of a file in reverse order"
      ]
    },
    {
      "cell_type": "code",
      "metadata": {
        "colab": {
          "base_uri": "https://localhost:8080/",
          "height": 232
        },
        "id": "umetmjUnAFgp",
        "outputId": "1f2839e9-e800-4c30-d69f-01eae4295e03"
      },
      "source": [
        "obj= open(\"details.py.txt\",\"r\")\n",
        "if obj:\n",
        "  st=obj.read()\n",
        "  print(\"file content is :\\n \",st)\n",
        "  obj.close()\n",
        "\n",
        "  print()\n",
        "  lines=st.split('\\n')\n",
        "\n",
        "  for ln in lines:\n",
        "    i=len(ln)-1\n",
        "    while(i>=0):\n",
        "      print(ln[i],end=\"\")\n",
        "      i=i-1\n",
        "      print()\n"
      ],
      "execution_count": 32,
      "outputs": [
        {
          "output_type": "error",
          "ename": "FileNotFoundError",
          "evalue": "ignored",
          "traceback": [
            "\u001b[0;31m---------------------------------------------------------------------------\u001b[0m",
            "\u001b[0;31mFileNotFoundError\u001b[0m                         Traceback (most recent call last)",
            "\u001b[0;32m<ipython-input-32-fbfd1dc77dd4>\u001b[0m in \u001b[0;36m<module>\u001b[0;34m()\u001b[0m\n\u001b[0;32m----> 1\u001b[0;31m \u001b[0mobj\u001b[0m\u001b[0;34m=\u001b[0m \u001b[0mopen\u001b[0m\u001b[0;34m(\u001b[0m\u001b[0;34m\"add.py.txt\"\u001b[0m\u001b[0;34m,\u001b[0m\u001b[0;34m\"r\"\u001b[0m\u001b[0;34m)\u001b[0m\u001b[0;34m\u001b[0m\u001b[0;34m\u001b[0m\u001b[0m\n\u001b[0m\u001b[1;32m      2\u001b[0m \u001b[0;32mif\u001b[0m \u001b[0mobj\u001b[0m\u001b[0;34m:\u001b[0m\u001b[0;34m\u001b[0m\u001b[0;34m\u001b[0m\u001b[0m\n\u001b[1;32m      3\u001b[0m   \u001b[0mst\u001b[0m\u001b[0;34m=\u001b[0m\u001b[0mobj\u001b[0m\u001b[0;34m.\u001b[0m\u001b[0mread\u001b[0m\u001b[0;34m(\u001b[0m\u001b[0;34m)\u001b[0m\u001b[0;34m\u001b[0m\u001b[0;34m\u001b[0m\u001b[0m\n\u001b[1;32m      4\u001b[0m   \u001b[0mprint\u001b[0m\u001b[0;34m(\u001b[0m\u001b[0;34m\"file content is :\\n \"\u001b[0m\u001b[0;34m,\u001b[0m\u001b[0mst\u001b[0m\u001b[0;34m)\u001b[0m\u001b[0;34m\u001b[0m\u001b[0;34m\u001b[0m\u001b[0m\n\u001b[1;32m      5\u001b[0m   \u001b[0mobj\u001b[0m\u001b[0;34m.\u001b[0m\u001b[0mclose\u001b[0m\u001b[0;34m(\u001b[0m\u001b[0;34m)\u001b[0m\u001b[0;34m\u001b[0m\u001b[0;34m\u001b[0m\u001b[0m\n",
            "\u001b[0;31mFileNotFoundError\u001b[0m: [Errno 2] No such file or directory: 'add.py.txt'"
          ]
        }
      ]
    },
    {
      "cell_type": "markdown",
      "metadata": {
        "id": "l0WUMZ23A46v"
      },
      "source": [
        "B,to compute the number of charecters ,words and lines in a file "
      ]
    },
    {
      "cell_type": "code",
      "metadata": {
        "colab": {
          "base_uri": "https://localhost:8080/",
          "height": 232
        },
        "id": "37dv35pPBCS7",
        "outputId": "8dfecdc7-a23a-43b9-c04e-b3b62f5d5a88"
      },
      "source": [
        "#write a program to count numbers if charecters,words and lines in a file\n",
        "nc=nw=nl=0\n",
        "file=open(\"id.txt\",\"r\")\n",
        "nl=nw=nc=0\n",
        "print(\"file content :\\n\")\n",
        "for line in file:\n",
        "  ln=line.strip(\"\\n\")\n",
        "  print(\"\\n\")\n",
        "  words=ln.split()\n",
        "  nl+=1\n",
        "  nw+=len(words)\n",
        "  nc+=len(line)\n",
        "  file.close()\n",
        "  print(\"\\n No.of lines:\",nl, \"words\",nw,\"characters:\",nc)"
      ],
      "execution_count": null,
      "outputs": [
        {
          "output_type": "error",
          "ename": "FileNotFoundError",
          "evalue": "ignored",
          "traceback": [
            "\u001b[0;31m---------------------------------------------------------------------------\u001b[0m",
            "\u001b[0;31mFileNotFoundError\u001b[0m                         Traceback (most recent call last)",
            "\u001b[0;32m<ipython-input-82-688c550a068d>\u001b[0m in \u001b[0;36m<module>\u001b[0;34m()\u001b[0m\n\u001b[1;32m      1\u001b[0m \u001b[0;31m#write a program to count numbers if charecters,words and lines in a file\u001b[0m\u001b[0;34m\u001b[0m\u001b[0;34m\u001b[0m\u001b[0;34m\u001b[0m\u001b[0m\n\u001b[1;32m      2\u001b[0m \u001b[0mnc\u001b[0m\u001b[0;34m=\u001b[0m\u001b[0mnw\u001b[0m\u001b[0;34m=\u001b[0m\u001b[0mnl\u001b[0m\u001b[0;34m=\u001b[0m\u001b[0;36m0\u001b[0m\u001b[0;34m\u001b[0m\u001b[0;34m\u001b[0m\u001b[0m\n\u001b[0;32m----> 3\u001b[0;31m \u001b[0mfile\u001b[0m\u001b[0;34m=\u001b[0m\u001b[0mopen\u001b[0m\u001b[0;34m(\u001b[0m\u001b[0;34m\"id.txt\"\u001b[0m\u001b[0;34m,\u001b[0m\u001b[0;34m\"r\"\u001b[0m\u001b[0;34m)\u001b[0m\u001b[0;34m\u001b[0m\u001b[0;34m\u001b[0m\u001b[0m\n\u001b[0m\u001b[1;32m      4\u001b[0m \u001b[0mnl\u001b[0m\u001b[0;34m=\u001b[0m\u001b[0mnw\u001b[0m\u001b[0;34m=\u001b[0m\u001b[0mnc\u001b[0m\u001b[0;34m=\u001b[0m\u001b[0;36m0\u001b[0m\u001b[0;34m\u001b[0m\u001b[0;34m\u001b[0m\u001b[0m\n\u001b[1;32m      5\u001b[0m \u001b[0mprint\u001b[0m\u001b[0;34m(\u001b[0m\u001b[0;34m\"file content :\\n\"\u001b[0m\u001b[0;34m)\u001b[0m\u001b[0;34m\u001b[0m\u001b[0;34m\u001b[0m\u001b[0m\n",
            "\u001b[0;31mFileNotFoundError\u001b[0m: [Errno 2] No such file or directory: 'id.txt'"
          ]
        }
      ]
    },
    {
      "cell_type": "markdown",
      "metadata": {
        "id": "y6oTtwBOCN7h"
      },
      "source": [
        "**Excersise 8**-functions"
      ]
    },
    {
      "cell_type": "markdown",
      "metadata": {
        "id": "YLXSmlJXCTGp"
      },
      "source": [
        "write a function ball collide that takes two balls as oarameters and compuets if they are colliding.your function should return a boolean representing whether or not the balls are colliding"
      ]
    },
    {
      "cell_type": "code",
      "metadata": {
        "id": "wX2bZt4HnNuS"
      },
      "source": [
        "import math\n",
        "def collide(ball_tup1,ball_tup2):\n",
        "  x1,y1,r1=ball_tup1\n",
        "  x2,y2,r2=ball_tup2\n",
        "  print(\"ball-01:\",ball_tup1)\n",
        "  print(\"ball-02:\",ball_tup2)\n",
        "  d=math.sqrt((x2-x1)**2+(y2-y1)**2)\n",
        "  print(\"centroid distance of two balls:\",d)\n",
        "  print(\"sum of radius ball-01 &ball-02 is :{}+{}={}\".format(r1,r2,r1+r2))\n",
        "  \n",
        "  if d<=r1+r2:\n",
        "    return True\n",
        "  else:\n",
        "      return False\n",
        "      b1=(-1,-4,3)\n",
        "      b2=(4,6,3)\n",
        "\n",
        "      if collide(b1,b2):\n",
        "        print(\"balls are collide.............!\")\n",
        "      else:\n",
        "        print(\"balls are not collide...........!\")"
      ],
      "execution_count": 34,
      "outputs": []
    },
    {
      "cell_type": "markdown",
      "metadata": {
        "id": "obvuNt_clF0N"
      },
      "source": [
        "B,find mean medium and mode for the given set of numbers in a list"
      ]
    },
    {
      "cell_type": "code",
      "metadata": {
        "id": "WImMIim1x0FN"
      },
      "source": [
        " def list_mean(num_list):\n",
        "    return sum(num_list)/len(num_list)\n",
        "\n",
        "def list_median(num_list):\n",
        "  num_list.sort()\n",
        "  n=len(num_list)\n",
        "  mid=n//2\n",
        "  if(n%2==1):\n",
        "    return num_list[mid]\n",
        "  else:\n",
        "      mid\n",
        "      return (num_list[mid-1]+num_list[mid])/2\n",
        "\n",
        "      def list_mode(num_list):\n",
        "        num_list.sort()\n",
        "        temp=[]\n",
        "\n",
        "        i=0\n",
        "        while i<len(num_list):\n",
        "          temp.append(num_list.count(num_list[i]))\n",
        "          i+=1\n",
        "\n",
        "          dic=dict(zip(num_list,temp))\n",
        "          mode={k for(k,v)in dic.items() if v==max(temp)}\n",
        "          return mode\n",
        "\n",
        "          lst=[1,1,2,2,2,3,4,5,3]\n",
        "\n",
        "          print(\"Given list is :\",lst)\n",
        "          print(\"Mean of the given list:\",list_mean(lst))\n",
        "          print(\"Median of the given list:\",list_medain(lst))\n",
        "          print(\"Mode of the given list:\",list_mode(lst))"
      ],
      "execution_count": 44,
      "outputs": []
    },
    {
      "cell_type": "markdown",
      "metadata": {
        "id": "pyjdj5sx0XxJ"
      },
      "source": [
        "**EXCERSISE-9** (FUNCTIONS)"
      ]
    },
    {
      "cell_type": "markdown",
      "metadata": {
        "id": "jYlMnMJ20dNJ"
      },
      "source": [
        "A,write a function nearly equal to test whether two strings are nearly equal.Two strings a and b are nearlu equal when a can be generated by a single mutation on b"
      ]
    },
    {
      "cell_type": "code",
      "metadata": {
        "colab": {
          "base_uri": "https://localhost:8080/",
          "height": 130
        },
        "id": "9X2z3_nQ03Sb",
        "outputId": "0603d1f2-a74c-46e0-9a21-29cc47923417"
      },
      "source": [
        "def nearly_eq(str1,str2):\n",
        "  count=0\n",
        "  i=j=0\n",
        "  while(i<len(str1) and j<len(str2)):\n",
        "    if(str[i]!=str2[j]):\n",
        "      count+=1\n",
        "      if(len(str1)>len(str2)):\n",
        "        i+=1\n",
        "       elif(len(str1)==len(str2))\n",
        "          pass\n",
        "        else:\n",
        "            i=1\n",
        "        if(count>1):\n",
        "           return False\n",
        "        i+=1\n",
        "        j+=1\n",
        "    if(count<2):\n",
        "       return True\n",
        "\n",
        "   s1=input(\"enter string1:\")\n",
        "   s2=input(\"enter string2:\")\n",
        "   bln=nearly_eq(s1,s2)\n",
        "   if(bln):\n",
        "         print(\"strings are nearly equal:\")\n",
        "       else:\n",
        "         print(\"string are not equal:\")\n",
        "                  "
      ],
      "execution_count": 46,
      "outputs": [
        {
          "output_type": "error",
          "ename": "IndentationError",
          "evalue": "ignored",
          "traceback": [
            "\u001b[0;36m  File \u001b[0;32m\"<ipython-input-46-7aab5300d6bd>\"\u001b[0;36m, line \u001b[0;32m9\u001b[0m\n\u001b[0;31m    elif(len(str1)==len(str2))\u001b[0m\n\u001b[0m                              ^\u001b[0m\n\u001b[0;31mIndentationError\u001b[0m\u001b[0;31m:\u001b[0m unindent does not match any outer indentation level\n"
          ]
        }
      ]
    },
    {
      "cell_type": "markdown",
      "metadata": {
        "id": "CqaPYKiv28ZV"
      },
      "source": [
        "B,write a function dup to find all duplicates in the list"
      ]
    },
    {
      "cell_type": "code",
      "metadata": {
        "id": "T12173SiqCa4"
      },
      "source": [
        "def dups(numlist):\n",
        "  temp=[]\n",
        "  for i in numlist:\n",
        "    cnt=numlist.count(i)\n",
        "    if(cnt>1 and (i not in temp)):\n",
        "      temp.append(i)\n",
        "      print(\"duplicate in the list:\",temp)\n",
        "\n",
        "      lst=[1,2,6,9,1,3,5,2,1]\n",
        "      print(\"given elements in the list:\",lst)\n",
        "      dups(lst)"
      ],
      "execution_count": 57,
      "outputs": []
    },
    {
      "cell_type": "markdown",
      "metadata": {
        "id": "nV-Oxlgo5Lf7"
      },
      "source": [
        "C,write a function unique to find all the unique elements of the list"
      ]
    },
    {
      "cell_type": "code",
      "metadata": {
        "id": "12xmSV8EraY3"
      },
      "source": [
        "def unique(numlist):\n",
        "  temp=[]\n",
        "  for i in numlist:\n",
        "    cnt=numlist.count(i)\n",
        "    if cnt==1:\n",
        "      temp.append(i)\n",
        "      print(\"unique elements in the list:\",temp)\n",
        "\n",
        "      lst=[1,2,6,9,1,3,5,2,1]\n",
        "      print(\"given elements in the list:\",lst)\n",
        "      unique(lst)\n",
        "      "
      ],
      "execution_count": 64,
      "outputs": []
    },
    {
      "cell_type": "markdown",
      "metadata": {
        "id": "shJtU0s76F1W"
      },
      "source": [
        "**EXCERSISE-10**(FUNCTIONS)"
      ]
    },
    {
      "cell_type": "markdown",
      "metadata": {
        "id": "AnejeMVG6LIl"
      },
      "source": [
        "A,cumulative product to compute cumulative of a list of numbers"
      ]
    },
    {
      "cell_type": "code",
      "metadata": {
        "id": "81cr9jAn6Uqw"
      },
      "source": [
        "def cum_prod(numlist):\n",
        "  prod=1\n",
        "  temp=[]\n",
        "  for i in numlist:\n",
        "    prod*=i\n",
        "    temp.append(prod)\n",
        "    return temp\n",
        "    lst=[1,2,4,5,3]\n",
        "    print(\"Given list is :\",lst)\n",
        "    print(\"cumulative product list is :\",cum_prod(lst))\n",
        "    "
      ],
      "execution_count": null,
      "outputs": []
    },
    {
      "cell_type": "markdown",
      "metadata": {
        "id": "00tIUTB8695D"
      },
      "source": [
        "B,function reverse to reverse a list.without using the reverse function"
      ]
    },
    {
      "cell_type": "code",
      "metadata": {
        "id": "J4PMKa8v7GiT"
      },
      "source": [
        "def reverse_list(numlist):\n",
        "  i=0\n",
        "  j=len(numlist)-1\n",
        "  while(i<=j):\n",
        "    temp=numlist[i]\n",
        "    numlist[i]=numlist[j]\n",
        "    numlist[j]=temp\n",
        "    j-=1\n",
        "    i+=1\n",
        "    return numlist\n",
        "    lst=[1,2,3,4]\n",
        "    print(\"Given list is\",lst)\n",
        "    reverse_list(lst)\n",
        "    print(\"Reverse of the given list is :\",lst)"
      ],
      "execution_count": null,
      "outputs": []
    },
    {
      "cell_type": "markdown",
      "metadata": {
        "id": "9eNSna-879Pz"
      },
      "source": [
        "C,compute gcd,lcm of two numbers .each function shouldnt exceed one line"
      ]
    },
    {
      "cell_type": "code",
      "metadata": {
        "colab": {
          "base_uri": "https://localhost:8080/"
        },
        "id": "yvNoRPie8K6h",
        "outputId": "71f5f12c-cc49-465b-bf88-ab80c909c43b"
      },
      "source": [
        "gcd=lambda a,b:a if b==0 else gcd(a,a%b)\n",
        "lcm=lambda a,b:(a*b)/gcd(a,b)\n",
        "x=4\n",
        "y=24\n",
        "print(\"the given numbers:\",x,y)\n",
        "print(\"gcd is:\",gcd(x,y))\n",
        "print(\"lcm is :\",lcm(x,y))"
      ],
      "execution_count": null,
      "outputs": [
        {
          "output_type": "stream",
          "text": [
            "the given numbers: 4 24\n",
            "gcd is: 4\n",
            "lcm is : 24.0\n"
          ],
          "name": "stdout"
        }
      ]
    },
    {
      "cell_type": "markdown",
      "metadata": {
        "id": "3_FWKk-08z02"
      },
      "source": [
        "**EXCERSISE-11**(MULTI-D LISTS)"
      ]
    },
    {
      "cell_type": "markdown",
      "metadata": {
        "id": "c8VRX30686VW"
      },
      "source": [
        "A,write a program that defines a matrix and prints"
      ]
    },
    {
      "cell_type": "code",
      "metadata": {
        "id": "hV4qq7di9Ao9"
      },
      "source": [
        "matA=[[]]\n",
        "rows=int(input(\"enter row size of matrix:\"))\n",
        "cols=int(input(\"enter the column size of matrix:\"))6\n",
        "matA=[[int(input(\"enter [%d,%d]value:\"%(i,j)))for j in range(cols)]for i in range (rows)]\n",
        "print(\"matrix is :\")\n",
        "for i in range(rows):\n",
        "  for j in range(cols):\n",
        "    print(matA[i][j],end='\\t')\n",
        "    print()"
      ],
      "execution_count": null,
      "outputs": []
    },
    {
      "cell_type": "markdown",
      "metadata": {
        "id": "Vk8TcYpR-86j"
      },
      "source": [
        "B,to perfome addition of two square matrix"
      ]
    },
    {
      "cell_type": "code",
      "metadata": {
        "colab": {
          "base_uri": "https://localhost:8080/",
          "height": 130
        },
        "id": "d8Vdoozk_DV9",
        "outputId": "e3a6f8bb-f2d7-492f-a619-3ace3aa909e9"
      },
      "source": [
        "def matRead(r,c):\n",
        "  return[[int(input(\"[%d,%d]value:\"%(i,j)))for j in range(c)]for i in range(r)]\n",
        "  def matDisp(mat,r,c):\n",
        "    for i in range(r):\n",
        "      for j in range(c):\n",
        "        print(mat[i][j],end='\\t')\n",
        "        print()\n",
        "        matA=[[]]\n",
        "        matB=[[]]\n",
        "        matSum=[[]]\n",
        "        rows=int(input(\"enter row size of matrix:\"))\n",
        "        cols=int(input(\"enter column size of matrix:\"))\n",
        "        if rows==cols:\n",
        "          print(\"enter matrix-A elements:\")\n",
        "          matA=matRead(rows,cols)\n",
        "          print(\"enter matrix-B elements:\")\n",
        "          matB=matRead(rows,cols)\n",
        "          print(\"matrix-A is :\")\n",
        "          matDisp(matB,rows,cols)\n",
        "          matSum=[[matA[i][j]+matB[i][j] for j in range(cols) for i in range(rows)]\n",
        "         print(\"sum of matrices is :\")\n",
        "          matDisp(matSum,rows,cols)\n",
        "                  else:\n",
        "                  print(\"matrices addition is not possible:\")"
      ],
      "execution_count": null,
      "outputs": [
        {
          "output_type": "error",
          "ename": "SyntaxError",
          "evalue": "ignored",
          "traceback": [
            "\u001b[0;36m  File \u001b[0;32m\"<ipython-input-136-825c0c67aa77>\"\u001b[0;36m, line \u001b[0;32m21\u001b[0m\n\u001b[0;31m    print(\"sum of matrices is :\")\u001b[0m\n\u001b[0m        ^\u001b[0m\n\u001b[0;31mSyntaxError\u001b[0m\u001b[0;31m:\u001b[0m invalid syntax\n"
          ]
        }
      ]
    },
    {
      "cell_type": "markdown",
      "metadata": {
        "id": "TKlkNzfjHdgr"
      },
      "source": [
        "C,multiplication matrix"
      ]
    },
    {
      "cell_type": "code",
      "metadata": {
        "colab": {
          "base_uri": "https://localhost:8080/",
          "height": 130
        },
        "id": "gU00qmoVHtTx",
        "outputId": "020302f3-8e05-4475-9009-484903196121"
      },
      "source": [
        "def matReader(r,c):\n",
        "return [[int(input(\"[%d,%d]value:\"%(i,j))) for j in range(c)] for i in range(r)]\n",
        "\n",
        "def matDisp(mat,r,c):\n",
        "  for i in range(r):\n",
        "    for j in range(r):\n",
        "      print(mat[i][j],end='\\t')\n",
        "      print()\n",
        "      matA=[[]]\n",
        "      matB=[[]]\n",
        "      matMul=[[]]\n",
        "      rows=int(input(\"enter row size of matrix:\"))\n",
        "      cols=int(input(\"enter column size of matrix:\"))\n",
        "      if rows==cols:\n",
        "        print(\"enter matrix-A:\")\n",
        "        matA=matRead(rows,cols)\n",
        "        print(\"enter matrix-B:\")\n",
        "        matB=matRead(rows,cols)\n",
        "        matMul=[[0 for j in range(cols)]for i in range(rows)]\n",
        "        for i in range(rows):\n",
        "          for j in range(cols):\n",
        "            for k in range(cols):\n",
        "              matMul[i][j]+=matA[i][k]*matB[k][j]\n",
        "              print(\"matrix-A is :\")\n",
        "              matDisp(matA,rows,cols)\n",
        "              print(\"matrix-B is :\")\n",
        "              matDisp(matB,rows,cols)\n",
        "              print(\"multiplication of matrices is :\")\n",
        "              matDisp(matMul,rowss,cols)\n",
        "              else:\n",
        "                print(\"matrices multiplication is not possible:\")"
      ],
      "execution_count": null,
      "outputs": [
        {
          "output_type": "error",
          "ename": "IndentationError",
          "evalue": "ignored",
          "traceback": [
            "\u001b[0;36m  File \u001b[0;32m\"<ipython-input-150-6053b85ef39a>\"\u001b[0;36m, line \u001b[0;32m2\u001b[0m\n\u001b[0;31m    return [[int(input(\"[%d,%d]value:\"%(i,j))) for j in range(c)] for i in range(r)]\u001b[0m\n\u001b[0m         ^\u001b[0m\n\u001b[0;31mIndentationError\u001b[0m\u001b[0;31m:\u001b[0m expected an indented block\n"
          ]
        }
      ]
    },
    {
      "cell_type": "markdown",
      "metadata": {
        "id": "Qx4-VznhONui"
      },
      "source": [
        "**EXCERSISE-12** MODULES"
      ]
    },
    {
      "cell_type": "markdown",
      "metadata": {
        "id": "263zF_K9OUp3"
      },
      "source": [
        "A,install package request flask and explore them ,using (pip)"
      ]
    },
    {
      "cell_type": "code",
      "metadata": {
        "id": "eZP_CUS0OdZT"
      },
      "source": [
        ">pip install requests\n",
        "\n",
        ">pip show requests\n",
        "\n",
        ">pip install flask\n",
        "\n",
        ">pip show flask\n"
      ],
      "execution_count": null,
      "outputs": []
    },
    {
      "cell_type": "markdown",
      "metadata": {
        "id": "o3Nb_USCPEBr"
      },
      "source": [
        "B,import requests and fetch content from the page\n"
      ]
    },
    {
      "cell_type": "code",
      "metadata": {
        "colab": {
          "base_uri": "https://localhost:8080/"
        },
        "id": "a3ITUpYqP6O1",
        "outputId": "0fd69155-42aa-45aa-f08e-3a70397be241"
      },
      "source": [
        "import requests\n",
        "r = requests.get('https://www.google.com')\n",
        "print(\"statuscode:\",r.status_code)\n",
        "\n",
        "print (\"header content:\",r.headers['content-type'])\n",
        "print(r.text)"
      ],
      "execution_count": null,
      "outputs": [
        {
          "output_type": "stream",
          "text": [
            "statuscode: 200\n",
            "header content: text/html; charset=ISO-8859-1\n",
            "<!doctype html><html itemscope=\"\" itemtype=\"http://schema.org/WebPage\" lang=\"en\"><head><meta content=\"Search the world's information, including webpages, images, videos and more. Google has many special features to help you find exactly what you're looking for.\" name=\"description\"><meta content=\"noodp\" name=\"robots\"><meta content=\"text/html; charset=UTF-8\" http-equiv=\"Content-Type\"><meta content=\"/images/branding/googleg/1x/googleg_standard_color_128dp.png\" itemprop=\"image\"><title>Google</title><script nonce=\"0jbpKdUr6Jr0bRjHfEdbDg==\">(function(){window.google={kEI:'_8PdYOC2H4Gi5NoPgqyS8A0',kEXPI:'0,18167,754048,1,530320,56873,954,5105,206,4804,2316,383,246,5,306,1048,4936,315,16231,10,1106274,1197718,565,92,302587,26305,51223,16109,6062,11388,11240,17572,4858,1362,284,9006,3022,4752,12835,4020,978,13228,3847,4192,6430,1142,13386,4516,2778,921,5079,1593,1279,2212,530,149,1103,840,1983,4314,108,3406,606,2023,1733,43,521,14670,3227,2845,7,4811,788,6754,5097,7876,3749,1180,108,1483,1372,552,908,2,941,6398,8926,432,3,1590,1,5444,804,10668,2652,4,1528,2304,1236,5226,577,74,1983,2626,2012,6,11498,3824,3050,2658,4243,3113,31,15220,713,638,37,1457,5586,9765,770,665,2521,3300,2536,992,1054,2051,17,3118,6,908,3,3370,171,1,5349,3277,6087,1,1810,283,912,5992,6754,984,4788,2,1394,756,633,136,8,1,1272,1718,2,3032,22,2015,3699,441,627,4,32,4,1341,4046,4,91,592,442,184,158,254,66,4,424,2379,91,30,1683,618,1274,1075,3097,406,2095,1602,171,114,2,2457,1015,287,1091,487,99,3,1040,76,569,515,1365,1139,559,1631,3,1493,2,217,290,1441,33,725,181,272,3,1066,1,57,176,1144,3673,36,2,631,204,3,75,48,27,5265,58,1460,320,2113,1,12,3,1,725,242,129,214,240,224,1897,387,2,251,1,8,82,1,8,24,58,2,438,1245,442,1153,352,1,2,1061,202,914,1470,871,57,269,113,13,15,4,7,38,42,51,608,3,33,22,2,292,3,145,744,543,389,263,186,601,901,1123,5620560,194,32,63,157,59,5996810,2800696,882,444,1,2,80,1,1796,1,9,2,2551,1,748,141,795,563,1,4265,1,1,2,1331,3299,843,2609,155,17,13,72,139,4,2,20,2,169,13,19,46,5,39,96,548,29,2,2,1,2,1,2,2,7,4,1,2,2,2,2,2,2,353,222,8,283,186,1,1,20,13,13,2,4,2,14,19,16,5,23,1,1,2,12,6,5,3,2,2,2,2,2,4,2,3,3,21,23954971,2857453,8573,1144247,268,1835,24965,1499,2,2377,3,120,3,6,338,3,1840,499,75,1017,762,806',kBL:'agTH'};google.sn='webhp';google.kHL='en';})();(function(){\n",
            "var f=this||self;var h,k=[];function l(a){for(var b;a&&(!a.getAttribute||!(b=a.getAttribute(\"eid\")));)a=a.parentNode;return b||h}function m(a){for(var b=null;a&&(!a.getAttribute||!(b=a.getAttribute(\"leid\")));)a=a.parentNode;return b}\n",
            "function n(a,b,c,d,g){var e=\"\";c||-1!==b.search(\"&ei=\")||(e=\"&ei=\"+l(d),-1===b.search(\"&lei=\")&&(d=m(d))&&(e+=\"&lei=\"+d));d=\"\";!c&&f._cshid&&-1===b.search(\"&cshid=\")&&\"slh\"!==a&&(d=\"&cshid=\"+f._cshid);c=c||\"/\"+(g||\"gen_204\")+\"?atyp=i&ct=\"+a+\"&cad=\"+b+e+\"&zx=\"+Date.now()+d;/^http:/i.test(c)&&\"https:\"===window.location.protocol&&(google.ml&&google.ml(Error(\"a\"),!1,{src:c,glmm:1}),c=\"\");return c};h=google.kEI;google.getEI=l;google.getLEI=m;google.ml=function(){return null};google.log=function(a,b,c,d,g){if(c=n(a,b,c,d,g)){a=new Image;var e=k.length;k[e]=a;a.onerror=a.onload=a.onabort=function(){delete k[e]};a.src=c}};google.logUrl=n;}).call(this);(function(){\n",
            "google.y={};google.sy=[];google.x=function(a,b){if(a)var c=a.id;else{do c=Math.random();while(google.y[c])}google.y[c]=[a,b];return!1};google.sx=function(a){google.sy.push(a)};google.lm=[];google.plm=function(a){google.lm.push.apply(google.lm,a)};google.lq=[];google.load=function(a,b,c){google.lq.push([[a],b,c])};google.loadAll=function(a,b){google.lq.push([a,b])};google.bx=!1;google.lx=function(){};}).call(this);google.f={};(function(){\n",
            "document.documentElement.addEventListener(\"submit\",function(b){var a;if(a=b.target){var c=a.getAttribute(\"data-submitfalse\");a=\"1\"==c||\"q\"==c&&!a.elements.q.value?!0:!1}else a=!1;a&&(b.preventDefault(),b.stopPropagation())},!0);document.documentElement.addEventListener(\"click\",function(b){var a;a:{for(a=b.target;a&&a!=document.documentElement;a=a.parentElement)if(\"A\"==a.tagName){a=\"1\"==a.getAttribute(\"data-nohref\");break a}a=!1}a&&b.preventDefault()},!0);}).call(this);</script><style>#gbar,#guser{font-size:13px;padding-top:1px !important;}#gbar{height:22px}#guser{padding-bottom:7px !important;text-align:right}.gbh,.gbd{border-top:1px solid #c9d7f1;font-size:1px}.gbh{height:0;position:absolute;top:24px;width:100%}@media all{.gb1{height:22px;margin-right:.5em;vertical-align:top}#gbar{float:left}}a.gb1,a.gb4{text-decoration:underline !important}a.gb1,a.gb4{color:#00c !important}.gbi .gb4{color:#dd8e27 !important}.gbf .gb4{color:#900 !important}\n",
            "</style><style>body,td,a,p,.h{font-family:arial,sans-serif}body{margin:0;overflow-y:scroll}#gog{padding:3px 8px 0}td{line-height:.8em}.gac_m td{line-height:17px}form{margin-bottom:20px}.h{color:#1558d6}em{font-weight:bold;font-style:normal}.lst{height:25px;width:496px}.gsfi,.lst{font:18px arial,sans-serif}.gsfs{font:17px arial,sans-serif}.ds{display:inline-box;display:inline-block;margin:3px 0 4px;margin-left:4px}input{font-family:inherit}body{background:#fff;color:#000}a{color:#4b11a8;text-decoration:none}a:hover,a:active{text-decoration:underline}.fl a{color:#1558d6}a:visited{color:#4b11a8}.sblc{padding-top:5px}.sblc a{display:block;margin:2px 0;margin-left:13px;font-size:11px}.lsbb{background:#f8f9fa;border:solid 1px;border-color:#dadce0 #70757a #70757a #dadce0;height:30px}.lsbb{display:block}#WqQANb a{display:inline-block;margin:0 12px}.lsb{background:url(/images/nav_logo229.png) 0 -261px repeat-x;border:none;color:#000;cursor:pointer;height:30px;margin:0;outline:0;font:15px arial,sans-serif;vertical-align:top}.lsb:active{background:#dadce0}.lst:focus{outline:none}</style><script nonce=\"0jbpKdUr6Jr0bRjHfEdbDg==\"></script></head><body bgcolor=\"#fff\"><script nonce=\"0jbpKdUr6Jr0bRjHfEdbDg==\">(function(){var src='/images/nav_logo229.png';var iesg=false;document.body.onload = function(){window.n && window.n();if (document.images){new Image().src=src;}\n",
            "if (!iesg){document.f&&document.f.q.focus();document.gbqf&&document.gbqf.q.focus();}\n",
            "}\n",
            "})();</script><div id=\"mngb\"><div id=gbar><nobr><b class=gb1>Search</b> <a class=gb1 href=\"https://www.google.com/imghp?hl=en&tab=wi\">Images</a> <a class=gb1 href=\"https://maps.google.com/maps?hl=en&tab=wl\">Maps</a> <a class=gb1 href=\"https://play.google.com/?hl=en&tab=w8\">Play</a> <a class=gb1 href=\"https://www.youtube.com/?gl=US&tab=w1\">YouTube</a> <a class=gb1 href=\"https://news.google.com/?tab=wn\">News</a> <a class=gb1 href=\"https://mail.google.com/mail/?tab=wm\">Gmail</a> <a class=gb1 href=\"https://drive.google.com/?tab=wo\">Drive</a> <a class=gb1 style=\"text-decoration:none\" href=\"https://www.google.com/intl/en/about/products?tab=wh\"><u>More</u> &raquo;</a></nobr></div><div id=guser width=100%><nobr><span id=gbn class=gbi></span><span id=gbf class=gbf></span><span id=gbe></span><a href=\"http://www.google.com/history/optout?hl=en\" class=gb4>Web History</a> | <a  href=\"/preferences?hl=en\" class=gb4>Settings</a> | <a target=_top id=gb_70 href=\"https://accounts.google.com/ServiceLogin?hl=en&passive=true&continue=https://www.google.com/&ec=GAZAAQ\" class=gb4>Sign in</a></nobr></div><div class=gbh style=left:0></div><div class=gbh style=right:0></div></div><center><br clear=\"all\" id=\"lgpd\"><div id=\"lga\"><img alt=\"Google\" height=\"92\" src=\"/images/branding/googlelogo/1x/googlelogo_white_background_color_272x92dp.png\" style=\"padding:28px 0 14px\" width=\"272\" id=\"hplogo\"><br><br></div><form action=\"/search\" name=\"f\"><table cellpadding=\"0\" cellspacing=\"0\"><tr valign=\"top\"><td width=\"25%\">&nbsp;</td><td align=\"center\" nowrap=\"\"><input name=\"ie\" value=\"ISO-8859-1\" type=\"hidden\"><input value=\"en\" name=\"hl\" type=\"hidden\"><input name=\"source\" type=\"hidden\" value=\"hp\"><input name=\"biw\" type=\"hidden\"><input name=\"bih\" type=\"hidden\"><div class=\"ds\" style=\"height:32px;margin:4px 0\"><input class=\"lst\" style=\"margin:0;padding:5px 8px 0 6px;vertical-align:top;color:#000\" autocomplete=\"off\" value=\"\" title=\"Google Search\" maxlength=\"2048\" name=\"q\" size=\"57\"></div><br style=\"line-height:0\"><span class=\"ds\"><span class=\"lsbb\"><input class=\"lsb\" value=\"Google Search\" name=\"btnG\" type=\"submit\"></span></span><span class=\"ds\"><span class=\"lsbb\"><input class=\"lsb\" id=\"tsuid1\" value=\"I'm Feeling Lucky\" name=\"btnI\" type=\"submit\"><script nonce=\"0jbpKdUr6Jr0bRjHfEdbDg==\">(function(){var id='tsuid1';document.getElementById(id).onclick = function(){if (this.form.q.value){this.checked = 1;if (this.form.iflsig)this.form.iflsig.disabled = false;}\n",
            "else top.location='/doodles/';};})();</script><input value=\"AINFCbYAAAAAYN3SDyM4NDHRnfLJ03Gv_r4mMwSP2Wns\" name=\"iflsig\" type=\"hidden\"></span></span></td><td class=\"fl sblc\" align=\"left\" nowrap=\"\" width=\"25%\"><a href=\"/advanced_search?hl=en&amp;authuser=0\">Advanced search</a></td></tr></table><input id=\"gbv\" name=\"gbv\" type=\"hidden\" value=\"1\"><script nonce=\"0jbpKdUr6Jr0bRjHfEdbDg==\">(function(){\n",
            "var a,b=\"1\";if(document&&document.getElementById)if(\"undefined\"!=typeof XMLHttpRequest)b=\"2\";else if(\"undefined\"!=typeof ActiveXObject){var c,d,e=[\"MSXML2.XMLHTTP.6.0\",\"MSXML2.XMLHTTP.3.0\",\"MSXML2.XMLHTTP\",\"Microsoft.XMLHTTP\"];for(c=0;d=e[c++];)try{new ActiveXObject(d),b=\"2\"}catch(h){}}a=b;if(\"2\"==a&&-1==location.search.indexOf(\"&gbv=2\")){var f=google.gbvu,g=document.getElementById(\"gbv\");g&&(g.value=a);f&&window.setTimeout(function(){location.href=f},0)};}).call(this);</script></form><div id=\"gac_scont\"></div><div style=\"font-size:83%;min-height:3.5em\"><br><div id=\"prm\"><style>.szppmdbYutt__middle-slot-promo{font-size:small;margin-bottom:32px}.szppmdbYutt__middle-slot-promo a.ZIeIlb{display:inline-block;text-decoration:none}.szppmdbYutt__middle-slot-promo img{border:none;margin-right:5px;vertical-align:middle}</style><div class=\"szppmdbYutt__middle-slot-promo\" data-ved=\"0ahUKEwigssb__cHxAhUBEVkFHQKWBN4QnIcBCAQ\"><a class=\"NKcBbd\" href=\"https://www.google.com/url?q=https://artsandculture.google.com/story/VQXReonZSjHN3w%3Futm_source%3Dgoogle%26utm_medium%3Dhppromo%26utm_campaign%3DPerspectives&amp;source=hpp&amp;id=19024367&amp;ct=3&amp;usg=AFQjCNFZ9TyZON0xtKCdZhlbJcyRKgXtsQ&amp;sa=X&amp;ved=0ahUKEwigssb__cHxAhUBEVkFHQKWBN4Q8IcBCAU\" rel=\"nofollow\">Discover Perspectives</a><span>: travel from home with virtual cultural tours</span></div></div></div><span id=\"footer\"><div style=\"font-size:10pt\"><div style=\"margin:19px auto;text-align:center\" id=\"WqQANb\"><a href=\"/intl/en/ads/\">Advertising Programs</a><a href=\"/services/\">Business Solutions</a><a href=\"/intl/en/about.html\">About Google</a></div></div><p style=\"font-size:8pt;color:#70757a\">&copy; 2021 - <a href=\"/intl/en/policies/privacy/\">Privacy</a> - <a href=\"/intl/en/policies/terms/\">Terms</a></p></span></center><script nonce=\"0jbpKdUr6Jr0bRjHfEdbDg==\">(function(){window.google.cdo={height:757,width:1440};(function(){\n",
            "var a=window.innerWidth,b=window.innerHeight;if(!a||!b){var c=window.document,d=\"CSS1Compat\"==c.compatMode?c.documentElement:c.body;a=d.clientWidth;b=d.clientHeight}a&&b&&(a!=google.cdo.width||b!=google.cdo.height)&&google.log(\"\",\"\",\"/client_204?&atyp=i&biw=\"+a+\"&bih=\"+b+\"&ei=\"+google.kEI);}).call(this);})();</script> <script nonce=\"0jbpKdUr6Jr0bRjHfEdbDg==\">(function(){google.xjs={ck:'',cs:'',excm:[],pml:false};})();</script>  <script nonce=\"0jbpKdUr6Jr0bRjHfEdbDg==\">(function(){var u='/xjs/_/js/k\\x3dxjs.hp.en_US.b02EctaivfE.O/m\\x3dsb_he,d/am\\x3dAHgCLA/d\\x3d1/ed\\x3d1/rs\\x3dACT90oFfg4oA8QA3iU3iXprU5U47uYslPg';\n",
            "var e=this||self,f=function(a){return a};var g;var l=function(a,b){this.g=b===h?a:\"\"};l.prototype.toString=function(){return this.g+\"\"};var h={};function m(){var a=u;google.lx=function(){n(a);google.lx=function(){}};google.bx||google.lx()}\n",
            "function n(a){google.timers&&google.timers.load&&google.tick&&google.tick(\"load\",\"xjsls\");var b=document;var c=\"SCRIPT\";\"application/xhtml+xml\"===b.contentType&&(c=c.toLowerCase());c=b.createElement(c);if(void 0===g){b=null;var k=e.trustedTypes;if(k&&k.createPolicy){try{b=k.createPolicy(\"goog#html\",{createHTML:f,createScript:f,createScriptURL:f})}catch(p){e.console&&e.console.error(p.message)}g=b}else g=b}a=(b=g)?b.createScriptURL(a):a;a=new l(a,h);c.src=a instanceof l&&a.constructor===l?a.g:\"type_error:TrustedResourceUrl\";var d;a=(c.ownerDocument&&c.ownerDocument.defaultView||window).document;(d=(a=null===(d=a.querySelector)||void 0===d?void 0:d.call(a,\"script[nonce]\"))?a.nonce||a.getAttribute(\"nonce\")||\"\":\"\")&&c.setAttribute(\"nonce\",d);document.body.appendChild(c);google.psa=!0};setTimeout(function(){m()},0);})();(function(){window.google.xjsu='/xjs/_/js/k\\x3dxjs.hp.en_US.b02EctaivfE.O/m\\x3dsb_he,d/am\\x3dAHgCLA/d\\x3d1/ed\\x3d1/rs\\x3dACT90oFfg4oA8QA3iU3iXprU5U47uYslPg';})();function _DumpException(e){throw e;}\n",
            "function _F_installCss(c){}\n",
            "(function(){google.jl={attn:false,blt:'none',dw:false,emtn:0,ine:false,lls:'default',pdt:0,snet:true,ubm:false,uwp:true};})();(function(){var pmc='{\\x22d\\x22:{},\\x22sb_he\\x22:{\\x22agen\\x22:true,\\x22cgen\\x22:true,\\x22client\\x22:\\x22heirloom-hp\\x22,\\x22dh\\x22:true,\\x22dhqt\\x22:true,\\x22ds\\x22:\\x22\\x22,\\x22ffql\\x22:\\x22en\\x22,\\x22fl\\x22:true,\\x22host\\x22:\\x22google.com\\x22,\\x22isbh\\x22:28,\\x22jsonp\\x22:true,\\x22msgs\\x22:{\\x22cibl\\x22:\\x22Clear Search\\x22,\\x22dym\\x22:\\x22Did you mean:\\x22,\\x22lcky\\x22:\\x22I\\\\u0026#39;m Feeling Lucky\\x22,\\x22lml\\x22:\\x22Learn more\\x22,\\x22oskt\\x22:\\x22Input tools\\x22,\\x22psrc\\x22:\\x22This search was removed from your \\\\u003Ca href\\x3d\\\\\\x22/history\\\\\\x22\\\\u003EWeb History\\\\u003C/a\\\\u003E\\x22,\\x22psrl\\x22:\\x22Remove\\x22,\\x22sbit\\x22:\\x22Search by image\\x22,\\x22srch\\x22:\\x22Google Search\\x22},\\x22nrft\\x22:false,\\x22ovr\\x22:{},\\x22pq\\x22:\\x22\\x22,\\x22refpd\\x22:true,\\x22rfs\\x22:[],\\x22sbas\\x22:\\x220 3px 8px 0 rgba(0,0,0,0.2),0 0 0 1px rgba(0,0,0,0.08)\\x22,\\x22sbpl\\x22:16,\\x22sbpr\\x22:16,\\x22scd\\x22:10,\\x22stok\\x22:\\x22BQeaNNoNGS9Pi9jawcAMaX4uLEM\\x22,\\x22uhde\\x22:false}}';google.pmc=JSON.parse(pmc);})();</script>        </body></html>\n"
          ],
          "name": "stdout"
        }
      ]
    },
    {
      "cell_type": "markdown",
      "metadata": {
        "id": "mhM8RiRzRdch"
      },
      "source": [
        "C,simple script that serves a simple HTTP Response and a simple HTML page"
      ]
    },
    {
      "cell_type": "code",
      "metadata": {
        "colab": {
          "base_uri": "https://localhost:8080/",
          "height": 130
        },
        "id": "z7D1WREdRodK",
        "outputId": "f417110e-a31d-4a0a-cdd4-5af109e7dfd0"
      },
      "source": [
        "from flask import Flask,render_templat\n",
        "app=Flask(__name__)\n",
        "print(app)\n",
        "@app.route(\"/\")\n",
        "def main():\n",
        "  return render_template('login.html')\n",
        "  if__name ==\"__main__\":\n",
        "    app.run(host=\"127.0.0.1\",port=2500)"
      ],
      "execution_count": null,
      "outputs": [
        {
          "output_type": "error",
          "ename": "SyntaxError",
          "evalue": "ignored",
          "traceback": [
            "\u001b[0;36m  File \u001b[0;32m\"<ipython-input-160-c6d724474056>\"\u001b[0;36m, line \u001b[0;32m7\u001b[0m\n\u001b[0;31m    if__name ==\"__main__\":\u001b[0m\n\u001b[0m                          ^\u001b[0m\n\u001b[0;31mSyntaxError\u001b[0m\u001b[0;31m:\u001b[0m invalid syntax\n"
          ]
        }
      ]
    },
    {
      "cell_type": "markdown",
      "metadata": {
        "id": "fde_xTxcJFR0"
      },
      "source": [
        "**EXCERSISE-13** OOP"
      ]
    },
    {
      "cell_type": "markdown",
      "metadata": {
        "id": "7eRCGceAIoar"
      },
      "source": [
        "A,**robot**"
      ]
    },
    {
      "cell_type": "code",
      "metadata": {
        "colab": {
          "base_uri": "https://localhost:8080/"
        },
        "id": "7Q_izgdNIqAI",
        "outputId": "265645d4-e946-4d2f-c66f-ed5fa5fe749a"
      },
      "source": [
        "class Robot:\n",
        "    what=\"Machine\"\n",
        "    name=\"Chitti\"\n",
        "    version=1.0\n",
        "    speed=\"1THz\"\n",
        "    memory=\"1ZB\"\n",
        "\n",
        "    def update(upd):\n",
        "        upd.version=2.0\n",
        "        upd.speed=\"2THz\"\n",
        "        upd.memory=\"2ZB\"\n",
        "\n",
        "    def disp(self):\n",
        "        print(\"Myself is a\",robj.what)\n",
        "        print(\"MyName is a\",robj.name)\n",
        "        print(\"Version :\",robj.version)\n",
        "        print(\"Speed : \",robj.speed)\n",
        "        print(\"Memory: \",robj.memory)\n",
        "\n",
        "robj=Robot()\n",
        "robj.disp()\n",
        "\n",
        "print(\"---------------Update---------\")\n",
        "robj.update()\n",
        "robj.disp()"
      ],
      "execution_count": null,
      "outputs": [
        {
          "output_type": "stream",
          "text": [
            "Myself is a Machine\n",
            "MyName is a Chitti\n",
            "Version : 1.0\n",
            "Speed :  1THz\n",
            "Memory:  1ZB\n",
            "---------------Update---------\n",
            "Myself is a Machine\n",
            "MyName is a Chitti\n",
            "Version : 2.0\n",
            "Speed :  2THz\n",
            "Memory:  2ZB\n"
          ],
          "name": "stdout"
        }
      ]
    },
    {
      "cell_type": "markdown",
      "metadata": {
        "id": "cdqw2P6gI3uN"
      },
      "source": [
        "B,atm"
      ]
    },
    {
      "cell_type": "code",
      "metadata": {
        "colab": {
          "base_uri": "https://localhost:8080/",
          "height": 130
        },
        "id": "lSecJEddI4qK",
        "outputId": "4dd53144-0030-422f-fafd-14c1332c4236"
      },
      "source": [
        "class ATM:\n",
        "    def _init_(self):\n",
        "        self.balance=0\n",
        "        print(\"New Account\")\n",
        "        \n",
        "    def enquire(self):\n",
        "        print(\"Balance: \",self.balance)\n",
        "        \n",
        "    def deposit(self):\n",
        "        amount=int(input(\"Enter the Deposit Amount:\"))\n",
        "        self.balance+ =amount\n",
        "        self.enquire()\n",
        "\n",
        "    def withdraw(self):\n",
        "        amount=int(input(\"Enter the Withdraw Amount: \"))\n",
        "        if self.balance<amount:\n",
        "            print(\"Insufficient Balance.....!\")\n",
        "        else:\n",
        "            self.balance-=amount\n",
        "            self.enquire()\n",
        "\n",
        "aobj=ATM()\n",
        "while(True):\n",
        "    print(\"**Menu*\")\n",
        "    print(\"1.Deposit\")\n",
        "    print(\"2.Withdarw\")\n",
        "    print(\"3.Balance\")\n",
        "    print(\"0.Exit\")\n",
        "    ch=int(input(\"Enter Your Choice: \"))\n",
        "    if ch==0:\n",
        "        break\n",
        "    elif ch==1:\n",
        "        aobj.deposit()\n",
        "    elif ch==2:\n",
        "        aobj.withdraw()\n",
        "    elif ch==3:\n",
        "        aobj.enquire()\n",
        "    else:\n",
        "        print(\"Invalid choice:\")\n",
        "        pass\n"
      ],
      "execution_count": null,
      "outputs": [
        {
          "output_type": "error",
          "ename": "SyntaxError",
          "evalue": "ignored",
          "traceback": [
            "\u001b[0;36m  File \u001b[0;32m\"<ipython-input-144-01392b5a0a97>\"\u001b[0;36m, line \u001b[0;32m11\u001b[0m\n\u001b[0;31m    self.balance+ =amount\u001b[0m\n\u001b[0m                  ^\u001b[0m\n\u001b[0;31mSyntaxError\u001b[0m\u001b[0;31m:\u001b[0m invalid syntax\n"
          ]
        }
      ]
    },
    {
      "cell_type": "markdown",
      "metadata": {
        "id": "4QICVmKEY50j"
      },
      "source": [
        "**Exercise - 14** GUI"
      ]
    },
    {
      "cell_type": "markdown",
      "metadata": {
        "id": "oyF_IaN9Y9-z"
      },
      "source": [
        ""
      ]
    }
  ]
}